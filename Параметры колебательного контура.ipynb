{
 "cells": [
  {
   "cell_type": "markdown",
   "metadata": {},
   "source": [
    "# Параметры колебательного контура\n",
    "\n",
    "$ L \\dot{i} + Ri + \\frac{1}{C}\\int{idt} = 0 \\\\\n",
    "\\ddot{i} + \\frac{R}{L}\\dot{i} + \\frac{1}{LC}i = 0 $\n",
    "\n",
    "Резонансная частота:\n",
    "$ \\omega_0 = \\frac {1} {\\sqrt{LC}} \\\\\n",
    "f_0 = \\frac {1} {2 \\pi \\sqrt{LC}} $\n",
    "\n",
    "Характеристика контура:\n",
    "$ \\rho = \\sqrt{\\frac{L}{C}} \\\\\n",
    "\\alpha = \\frac{R}{2L} \\\\\n",
    "\\beta = \\sqrt{\\alpha^2 - \\omega_0^2} $\n",
    "\n",
    "$ \\ddot{i} + 2\\alpha\\dot{i} + \\omega_0^2 i = 0 $\n",
    "\n",
    "$ \\bigg| \\begin{matrix}\n",
    "    u = U_o e^{-\\alpha t}sin(\\omega t+\\phi); f_0 = \\frac{1}{2 \\pi \\sqrt{LC}} & \\mbox{if } R < 2 \\rho \\\\\n",
    "    i = \\frac{U}{\\beta L}e^{-\\alpha t}sh \\beta t & \\mbox{otherwise }\n",
    "    \\end{matrix} $"
   ]
  },
  {
   "cell_type": "code",
   "execution_count": 37,
   "metadata": {
    "scrolled": true
   },
   "outputs": [],
   "source": [
    "import math\n",
    "from IPython.display import display, Math, Latex\n",
    "class OSC():\n",
    "    def __init__(self, l, c, r=0):\n",
    "        self.l, self.c, self.r = l, c, r\n",
    "    @property\n",
    "    def f0(self): return 1/(2*math.pi*math.sqrt(self.l*self.c))\n",
    "    @property\n",
    "    def rho(self): return math.sqrt(self.l/self.c)\n",
    "    @property\n",
    "    def is_oscillation(self): return self.r < 2*self.rho\n",
    "    def latex(self):\n",
    "        return display(Math('''\\\\begin{{array}}{{lcl}}\n",
    "R = {}~Ом; L = {}~мГн; C = {}~µФ \\\\\\\\\n",
    "f_0 = {:.2f}~кГц; \\\\frac{{1}}{{f_0}} = {:.2f}~мс; \\\\rho = {:.0f} \\\\\\\\\n",
    "Условие~колебаний: R ({:.0f}~Ом) {} 2 \\\\rho ({:.0f}~Ом)\n",
    "\\\\end{{array}}\n",
    "'''.format(self.r, self.l, self.c*1e6, \\\n",
    "    self.f0/1000, (1/self.f0)*1000, self.rho, \\\n",
    "    self.r, '<' if self.is_oscillation else '>=', 2*self.rho)))"
   ]
  },
  {
   "cell_type": "code",
   "execution_count": 38,
   "metadata": {},
   "outputs": [
    {
     "data": {
      "text/latex": [
       "$\\displaystyle \\begin{array}{lcl}\n",
       "R = 1~Ом; L = 1~мГн; C = 1000000.0~µФ \\\\\n",
       "f_0 = 0.00~кГц; \\frac{1}{f_0} = 6283.19~мс; \\rho = 1 \\\\\n",
       "Условие~колебаний: R (1~Ом) < 2 \\rho (2~Ом)\n",
       "\\end{array}\n",
       "$"
      ],
      "text/plain": [
       "<IPython.core.display.Math object>"
      ]
     },
     "metadata": {},
     "output_type": "display_data"
    }
   ],
   "source": [
    "OSC(1, 1, 1).latex()"
   ]
  },
  {
   "cell_type": "code",
   "execution_count": null,
   "metadata": {},
   "outputs": [],
   "source": []
  }
 ],
 "metadata": {
  "kernelspec": {
   "display_name": "Python 3",
   "language": "python",
   "name": "python3"
  },
  "language_info": {
   "codemirror_mode": {
    "name": "ipython",
    "version": 3
   },
   "file_extension": ".py",
   "mimetype": "text/x-python",
   "name": "python",
   "nbconvert_exporter": "python",
   "pygments_lexer": "ipython3",
   "version": "3.6.7"
  }
 },
 "nbformat": 4,
 "nbformat_minor": 2
}
